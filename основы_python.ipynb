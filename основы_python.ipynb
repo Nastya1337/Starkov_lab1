{
  "cells": [
    {
      "cell_type": "markdown",
      "metadata": {
        "id": "M-DGa20PaHnu"
      },
      "source": [
        "#Задача 1\n",
        "Написать функцию на вход которой подается строка, состоящая из латинских букв.\n",
        "Функция должна вернуть количество гласных букв (a, e, i, o, u) в этой строке. Написать тесты для кода"
      ]
    },
    {
      "cell_type": "code",
      "execution_count": 4,
      "metadata": {
        "id": "XvX8X_JJ6PCb"
      },
      "outputs": [],
      "source": [
        "#stringInput = \"It's my new program\" \n",
        " \n",
        "stringInput = input(\"Введите строку:\") \n",
        " \n",
        "def countVowels(stringInput): \n",
        "    vowelletters = [\"a\",\"e\",\"i\",\"o\",\"u\"] \n",
        "    return sum(stringInput.lower().count(v) for v in vowelletters) \n",
        "print(countVowels(stringInput)) "
      ]
    },
    {
      "cell_type": "markdown",
      "metadata": {
        "id": "t2ClV_Y0bbr6"
      },
      "source": [
        "# Задача 2\n",
        "Написать функцию на вход, которой подается строка. Функция должна вернуть true, если\n",
        "каждый символ в строке встречается только 1 раз, иначе должна вернуть false. Написать тесты для кода"
      ]
    },
    {
      "cell_type": "code",
      "execution_count": 6,
      "metadata": {
        "id": "FppbECao6VIz"
      },
      "outputs": [],
      "source": [
        " def is_isogram(stringInput): \n",
        "     return len(stringInput) == len(set(stringInput.lower())) \n",
        "  \n",
        " #stringInput = \"qwertty\" \n",
        " stringInput = input('Введите строку:') \n",
        " print(is_isogram(stringInput)) "
      ]
    },
    {
      "cell_type": "markdown",
      "metadata": {
        "id": "udRiIK1cdt6E"
      },
      "source": [
        "# Задача 3\n",
        "Написать функцию, которая принимает положительное число и возвращает количество\n",
        "бит равных 1 в этом числе. Написать тесты для кода"
      ]
    },
    {
      "cell_type": "code",
      "execution_count": 9,
      "metadata": {
        "id": "6tkfDJRz6dp_"
      },
      "outputs": [],
      "source": [
        " #number = 7 \n",
        "  \n",
        " number = input(\"Введите число:\") \n",
        " number = int(number) \n",
        " def count_bit_in_number(number): \n",
        "     return(bin(number).count('1')) \n",
        " print(count_bit_in_number(number)) "
      ]
    },
    {
      "cell_type": "markdown",
      "metadata": {
        "id": "26dDUz-Ae17N"
      },
      "source": [
        "# Задача 4\n",
        "Написать функцию, которая принимает положительное число. Функция должна вернуть то,\n",
        "сколько раз необходимо перемножать цифры числа или результат перемножения, чтобы\n",
        "получилось число состоящее из одной цифры.\n",
        "Например, для входного числа:\n",
        "· 39 функция должна вернуть 3, так как 3*9=27 => 2*7=14 => 1*4=4\n",
        "· 4 функция должна вернуть 0, так как число уже состоит из одной цифры\n",
        "· 999 функция должна вернуть 4, так как 9*9*9=729 => 7*2*9=126 => 1*2*6=12 =>\n",
        "1*2=2. Написать тесты для кода"
      ]
    },
    {
      "cell_type": "code",
      "execution_count": 14,
      "metadata": {
        "id": "BH1A_Mgi6i4G"
      },
      "outputs": [],
      "source": [
        " from functools import reduce \n",
        "  \n",
        " def magic(n): \n",
        "     count = 0 \n",
        "     while n > 9: \n",
        "         n = reduce(lambda x, y: x*int(y), str(n), 1) \n",
        "         count += 1 \n",
        "     return count \n",
        "  \n",
        " n = input(\"Введите положительное число:\") \n",
        " n = int(n) \n",
        " print(magic(n)) "
      ]
    },
    {
      "cell_type": "markdown",
      "metadata": {
        "id": "0nS-kIa8g8vd"
      },
      "source": [
        "# Задача 5\n",
        "Написать функцию, которая принимает два целочисленных вектора одинаковой длины и\n",
        "возвращает среднеквадратическое отклонение двух векторов. Написать тесты для кода"
      ]
    },
    {
      "cell_type": "code",
      "execution_count": 10,
      "metadata": {
        "id": "8iphx4LM6xbx"
      },
      "outputs": [],
      "source": [
        " import numpy as np \n",
        "  \n",
        " def calculate_std(vec1, vec2): \n",
        "     if len(vec1) != len(vec2): \n",
        "         raise ValueError(\"Векторы должны быть одинаковой длины.\") \n",
        "      \n",
        "     # Преобразуем векторы в numpy массивы для удобства расчетов \n",
        "     vec1 = np.array(vec1) \n",
        "     vec2 = np.array(vec2) \n",
        "      \n",
        "     # Вычисляем среднее значение \n",
        "     mean1 = np.mean(vec1) \n",
        "     mean2 = np.mean(vec2) \n",
        "      \n",
        "     # Вычисляем СКО для каждого вектора \n",
        "     std1 = np.sqrt(np.mean((vec1 - mean1) ** 2)) \n",
        "     std2 = np.sqrt(np.mean((vec2 - mean2) ** 2)) \n",
        "      \n",
        "     return std1, std2 \n",
        "      \n",
        " vec1 = (1, 89) \n",
        " vec2 = (25, 4) \n",
        " print(calculate_std(vec1, vec2)) "
      ]
    },
    {
      "cell_type": "markdown",
      "metadata": {
        "id": "vpIPKL439zkw"
      },
      "source": [
        "# Задача 6\n",
        "Написать функцию, принимающая целое положительное число. Функция должна вернуть\n",
        "строку вида “(n1**p1)(n2**p2)…(nk**pk)” представляющая разложение числа на простые\n",
        "множители (если pi == 1, то выводить только ni).\n",
        "Например, для числа 86240 функция должна вернуть “(2**5)(5)(7**2)(11)”. Написать тесты для кода"
      ]
    },
    {
      "cell_type": "code",
      "execution_count": 16,
      "metadata": {
        "id": "pFebmcZk94Jw"
      },
      "outputs": [],
      "source": [
        " def primfacs(n): \n",
        "    i = 2 \n",
        "    primfac = [] \n",
        "    while i * i <= n: \n",
        "        while n % i == 0: \n",
        "            primfac.append(i) \n",
        "            n = n / i \n",
        "        i = i + 1 \n",
        "    if n > 1: \n",
        "        primfac.append(n) \n",
        "    return primfac \n",
        "  \n",
        " n = 86240 \n",
        " print(primfacs(n)) "
      ]
    },
    {
      "cell_type": "markdown",
      "metadata": {
        "id": "ps2s0BudX7A2"
      },
      "source": [
        "# Задача 7\n",
        "Написать функцию, принимающая целое число n, задающее количество кубиков. Функция\n",
        "должна определить, можно ли из данного кол-ва кубиков построить пирамиду, то есть\n",
        "можно ли представить число n как 1^2+2^2+3^2+…+k^2. Если можно, то функция должна\n",
        "вернуть k, иначе строку “It is impossible”. Написать тесты для кода"
      ]
    },
    {
      "cell_type": "code",
      "execution_count": 23,
      "metadata": {
        "id": "3YPjEXxhX_YT"
      },
      "outputs": [],
      "source": [
        " def pyramid(n): \n",
        "     k = 0 \n",
        "     total_cubes = 0 \n",
        "      \n",
        "     while total_cubes < n: \n",
        "         k += 1 \n",
        "         total_cubes += k**2 \n",
        "      \n",
        "     if total_cubes == n: \n",
        "         return k \n",
        "     else: \n",
        "         return \"It is impossible\" \n",
        " n = 34 \n",
        " print(pyramid(n)) \n",
        "assert pyramid(14) == 3\n",
        "assert pyramid(30) == 4\n",
        "assert pyramid(1) == 1\n",
        "assert pyramid(15) == \"It is impossible\""
      ]
    },
    {
      "cell_type": "markdown",
      "metadata": {
        "id": "KeKgmIdAQMEJ"
      },
      "source": [
        "# Задача 8\n",
        "Функция принимает на вход положительное число и определяет является ли оно сбалансированным, т.е. сумма цифр до средних равна сумме цифр после. Средними в случае нечетного числа цифр считать одну цифру, в случае четного - две средних. Написать тесты для кода"
      ]
    },
    {
      "cell_type": "code",
      "execution_count": 24,
      "metadata": {
        "id": "gMAAqtqlQrZt"
      },
      "outputs": [],
      "source": [
        " def check_bal(a): \n",
        "     x = len(str(a))/2 \n",
        "     result_1 = 0 \n",
        "     result_2 = 0 \n",
        "     for i in range(0, len(str(a))): \n",
        "         if i < x-1:  \n",
        "             result_1 += int(str(a)[i]) \n",
        "     for i in range(0, len(str(a)[::-1])): \n",
        "         if i > x: \n",
        "             result_2 += int(str(a)[i]) \n",
        "     if result_1 == result_2: \n",
        "         print('Число сбалансированное') \n",
        "     else: \n",
        "         print('Число не сбалансированное') \n",
        "  \n",
        " a = 123804 \n",
        " check_bal(a) \n",
        "assert check_bal(123321) == True\n",
        "assert check_bal(1203) == True\n",
        "assert check_bal(123456) == False\n",
        "assert check_bal(101) == True\n",
        "assert check_bal(12345) == False"
      ]
    }
  ],
  "metadata": {
    "colab": {
      "provenance": []
    },
    "kernelspec": {
      "display_name": "Python 3",
      "name": "python3"
    },
    "language_info": {
      "codemirror_mode": {
        "name": "ipython",
        "version": 3
      },
      "file_extension": ".py",
      "mimetype": "text/x-python",
      "name": "python",
      "nbconvert_exporter": "python",
      "pygments_lexer": "ipython3",
      "version": "3.12.0"
    }
  },
  "nbformat": 4,
  "nbformat_minor": 0
}
